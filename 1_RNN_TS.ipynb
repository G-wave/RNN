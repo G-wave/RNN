{
 "cells": [
  {
   "cell_type": "code",
   "execution_count": 2,
   "metadata": {
    "collapsed": false
   },
   "outputs": [],
   "source": [
    "import tensorflow as tf\n",
    "import pandas as pd\n",
    "import numpy as np\n",
    "import os\n",
    "import matplotlib\n",
    "import matplotlib.pyplot as plt\n",
    "import random\n",
    "%matplotlib inline\n",
    "import shutil\n",
    "import tensorflow.contrib.learn as tflearn\n",
    "import tensorflow.contrib.layers as tflayers\n",
    "from tensorflow.contrib.learn.python.learn import learn_runner\n",
    "import tensorflow.contrib.metrics as metrics\n",
    "import tensorflow.contrib.rnn as run"
   ]
  },
  {
   "cell_type": "code",
   "execution_count": 10,
   "metadata": {
    "collapsed": false
   },
   "outputs": [
    {
     "data": {
      "image/png": "[encoded data removed]",
      "text/plain": [
       "<matplotlib.figure.Figure at 0x12027d3c8>"
      ]
     },
     "metadata": {},
     "output_type": "display_data"
    }
   ],
   "source": [
    "random.seed(100)\n",
    "rng = pd.date_range(start='2000', periods =209,freq='M')\n",
    "ts = pd.Series(np.random.uniform(-10,10,size=len(rng)),rng).cumsum()\n",
    "ts.plot(c='b', title=\"Example\")\n",
    "plt.show()"
   ]
  },
  {
   "cell_type": "code",
   "execution_count": 11,
   "metadata": {
    "collapsed": false
   },
   "outputs": [
    {
     "data": {
      "text/plain": [
       "2000-01-31    -0.871618\n",
       "2000-02-29     1.733038\n",
       "2000-03-31    -0.144302\n",
       "2000-04-30    -0.784137\n",
       "2000-05-31   -10.514862\n",
       "2000-06-30   -17.585199\n",
       "2000-07-31   -21.067725\n",
       "2000-08-31   -26.027952\n",
       "2000-09-30   -31.306954\n",
       "2000-10-31   -37.789975\n",
       "Freq: M, dtype: float64"
      ]
     },
     "execution_count": 11,
     "metadata": {},
     "output_type": "execute_result"
    }
   ],
   "source": [
    "ts.head(10)"
   ]
  },
  {
   "cell_type": "code",
   "execution_count": 12,
   "metadata": {
    "collapsed": false
   },
   "outputs": [
    {
     "name": "stdout",
     "output_type": "stream",
     "text": [
      "10\n",
      "(10, 20, 1)\n",
      "[[[ -0.87161837]\n",
      "  [  1.73303777]\n",
      "  [ -0.1443017 ]\n",
      "  [ -0.78413731]\n",
      "  [-10.51486174]\n",
      "  [-17.58519857]\n",
      "  [-21.06772526]\n",
      "  [-26.0279521 ]\n",
      "  [-31.30695353]\n",
      "  [-37.78997547]\n",
      "  [-46.29715964]\n",
      "  [-48.60984149]\n",
      "  [-55.51378377]\n",
      "  [-57.15812431]\n",
      "  [-53.31313975]\n",
      "  [-63.26777656]\n",
      "  [-60.89195221]\n",
      "  [-64.86697844]\n",
      "  [-73.21436214]\n",
      "  [-70.43985332]]]\n",
      "(10, 20, 1)\n",
      "[[[  1.73303777]\n",
      "  [ -0.1443017 ]\n",
      "  [ -0.78413731]\n",
      "  [-10.51486174]\n",
      "  [-17.58519857]\n",
      "  [-21.06772526]\n",
      "  [-26.0279521 ]\n",
      "  [-31.30695353]\n",
      "  [-37.78997547]\n",
      "  [-46.29715964]\n",
      "  [-48.60984149]\n",
      "  [-55.51378377]\n",
      "  [-57.15812431]\n",
      "  [-53.31313975]\n",
      "  [-63.26777656]\n",
      "  [-60.89195221]\n",
      "  [-64.86697844]\n",
      "  [-73.21436214]\n",
      "  [-70.43985332]\n",
      "  [-61.38727837]]]\n"
     ]
    }
   ],
   "source": [
    "TS = np.array(ts)\n",
    "num_periods = 20  # 10 batches , 20 values per batch\n",
    "f_horizon = 1  # Forecast Horizon, 1 period into future\n",
    "\n",
    "x_data = TS[:(len(TS)-(len(TS) % num_periods))]    #x_data len is truncated from 209 to 200\n",
    "x_batches = x_data.reshape(-1,20,1)\n",
    "\n",
    "y_data = TS[1:(len(TS)-len(TS) % num_periods)+f_horizon]\n",
    "y_batches = y_data.reshape(-1,20,1)\n",
    "\n",
    "\n",
    "print(len(x_batches))\n",
    "print(x_batches.shape)\n",
    "print(x_batches[0:1])\n",
    "\n",
    "print(y_batches.shape)\n",
    "print(y_batches[0:1])\n"
   ]
  },
  {
   "cell_type": "code",
   "execution_count": 13,
   "metadata": {
    "collapsed": true
   },
   "outputs": [],
   "source": [
    "def test_data(series, forecast, num_periods):\n",
    "    test_x_setup = TS[-(num_periods+forecast):]\n",
    "    testX = test_x_setup[:num_periods].reshape(-1,20,1)\n",
    "    testY = TS[-(num_periods):].reshape(-1,20,1)\n",
    "    return testX, testY"
   ]
  },
  {
   "cell_type": "code",
   "execution_count": 14,
   "metadata": {
    "collapsed": false
   },
   "outputs": [
    {
     "name": "stdout",
     "output_type": "stream",
     "text": [
      "(1, 20, 1)\n",
      "[[[-207.68351148]\n",
      "  [-208.85526283]\n",
      "  [-205.51468688]\n",
      "  [-205.31546849]\n",
      "  [-207.66917677]\n",
      "  [-211.66580207]\n",
      "  [-207.32227974]\n",
      "  [-207.33190601]\n",
      "  [-206.48869992]\n",
      "  [-202.26520632]\n",
      "  [-209.31866162]\n",
      "  [-216.04988476]\n",
      "  [-221.60421421]\n",
      "  [-217.37786065]\n",
      "  [-215.61752647]\n",
      "  [-221.99492474]\n",
      "  [-231.85970961]\n",
      "  [-228.21572031]\n",
      "  [-222.0523711 ]\n",
      "  [-224.36089836]]]\n",
      "(1, 20, 1)\n",
      "[[[-208.85526283]\n",
      "  [-205.51468688]\n",
      "  [-205.31546849]\n",
      "  [-207.66917677]\n",
      "  [-211.66580207]\n",
      "  [-207.32227974]\n",
      "  [-207.33190601]\n",
      "  [-206.48869992]\n",
      "  [-202.26520632]\n",
      "  [-209.31866162]\n",
      "  [-216.04988476]\n",
      "  [-221.60421421]\n",
      "  [-217.37786065]\n",
      "  [-215.61752647]\n",
      "  [-221.99492474]\n",
      "  [-231.85970961]\n",
      "  [-228.21572031]\n",
      "  [-222.0523711 ]\n",
      "  [-224.36089836]\n",
      "  [-233.94259247]]]\n"
     ]
    }
   ],
   "source": [
    "X_test, Y_test = test_data(TS, f_horizon, num_periods)\n",
    "print(X_test.shape)\n",
    "print(X_test)\n",
    "print(Y_test.shape)\n",
    "print(Y_test)"
   ]
  },
  {
   "cell_type": "code",
   "execution_count": 15,
   "metadata": {
    "collapsed": false
   },
   "outputs": [],
   "source": [
    "tf.reset_default_graph()\n",
    "\n",
    "num_periods = 20  #number of periods per vector used to predict one period ahead\n",
    "inputs = 1        #number of vectors submitted \n",
    "hidden = 100      #number of neurons we will recursively work through\n",
    "output = 1        #number of output vector\n",
    "\n",
    "X = tf.placeholder(tf.float32, [None, num_periods, inputs ])\n",
    "y = tf.placeholder(tf.float32, [None, num_periods, output ])\n",
    "\n",
    "basic_cell = tf.contrib.rnn.BasicRNNCell(num_units=hidden, activation=tf.nn.relu)\n",
    "rnn_output, states = tf.nn.dynamic_rnn(basic_cell, X, dtype=tf.float32)   # dynamic instead of static\n",
    "\n",
    "learning_rate =0.001\n",
    "\n",
    "stacked_rnn_output = tf.reshape(rnn_output,[-1, hidden])     # changed the form into a tensor\n",
    "stacked_outputs = tf.layers.dense(stacked_rnn_output, output)  # GD\n",
    "outputs = tf.reshape(stacked_outputs, [-1, num_periods, output]) # shape of the results\n",
    "\n",
    "loss = tf.reduce_sum(tf.square(outputs - y))\n",
    "optimizer = tf.train.AdamOptimizer(learning_rate = learning_rate)\n",
    "training_op = optimizer.minimize(loss)\n",
    "\n",
    "init = tf.global_variables_initializer()\n",
    "\n",
    "\n"
   ]
  },
  {
   "cell_type": "code",
   "execution_count": 20,
   "metadata": {
    "collapsed": false
   },
   "outputs": [
    {
     "name": "stdout",
     "output_type": "stream",
     "text": [
      "0 \tMSE: 2.76578e+06\n",
      "100 \tMSE: 42024.4\n",
      "200 \tMSE: 10928.6\n",
      "300 \tMSE: 3509.62\n",
      "400 \tMSE: 2710.62\n",
      "500 \tMSE: 2103.89\n",
      "600 \tMSE: 1725.4\n",
      "700 \tMSE: 2256.36\n",
      "800 \tMSE: 1574.84\n",
      "900 \tMSE: 1506.83\n",
      "1000 \tMSE: 1214.9\n",
      "1100 \tMSE: 1433.79\n",
      "1200 \tMSE: 1110.51\n",
      "1300 \tMSE: 1024.03\n",
      "1400 \tMSE: 1074.24\n",
      "1500 \tMSE: 1038.26\n",
      "1600 \tMSE: 871.019\n",
      "1700 \tMSE: 811.501\n",
      "1800 \tMSE: 1118.8\n",
      "1900 \tMSE: 805.432\n",
      "[[[-211.68717957]\n",
      "  [-213.33222961]\n",
      "  [-206.18629456]\n",
      "  [-200.10148621]\n",
      "  [-210.56443787]\n",
      "  [-201.58239746]\n",
      "  [-198.94277954]\n",
      "  [-210.91065979]\n",
      "  [-198.94691467]\n",
      "  [-196.60539246]\n",
      "  [-213.05787659]\n",
      "  [-213.64009094]\n",
      "  [-217.00045776]\n",
      "  [-229.42658997]\n",
      "  [-204.11032104]\n",
      "  [-227.14161682]\n",
      "  [-255.65412903]\n",
      "  [-203.80943298]\n",
      "  [-225.26126099]\n",
      "  [-258.49328613]]]\n"
     ]
    }
   ],
   "source": [
    "epochs = 2000\n",
    "\n",
    "with tf.Session() as sess:\n",
    "    init.run()\n",
    "    for i in range(epochs):\n",
    "        sess.run(training_op, feed_dict={X: x_batches, y:y_batches})\n",
    "        if i % 100 == 0:\n",
    "            mse = loss.eval(feed_dict={X:x_batches, y:y_batches})\n",
    "            print(i, \"\\tMSE:\", mse)\n",
    "    y_pred = sess.run(outputs, feed_dict={X: X_test})\n",
    "    print(y_pred)\n",
    "        \n"
   ]
  },
  {
   "cell_type": "code",
   "execution_count": 21,
   "metadata": {
    "collapsed": false
   },
   "outputs": [
    {
     "data": {
      "image/png": "[encoded data removed]",
      "text/plain": [
       "<matplotlib.figure.Figure at 0x11fe39be0>"
      ]
     },
     "metadata": {},
     "output_type": "display_data"
    }
   ],
   "source": [
    "plt.title(\"Forecast vs Actual\")\n",
    "\n",
    "plt.plot(pd.Series(np.ravel(Y_test)),\"bo\", markersize=10, label =\" Actual\")\n",
    "plt.plot(pd.Series(np.ravel(y_pred)),\"r.\", markersize=10, label =\" Forecast\")\n",
    "plt.legend(loc=\"lower left\")\n",
    "\n",
    "plt.show()"
   ]
  },
  {
   "cell_type": "code",
   "execution_count": null,
   "metadata": {
    "collapsed": false
   },
   "outputs": [],
   "source": []
  },
  {
   "cell_type": "code",
   "execution_count": null,
   "metadata": {
    "collapsed": false
   },
   "outputs": [],
   "source": []
  },
  {
   "cell_type": "code",
   "execution_count": null,
   "metadata": {
    "collapsed": false
   },
   "outputs": [],
   "source": []
  },
  {
   "cell_type": "code",
   "execution_count": null,
   "metadata": {
    "collapsed": true
   },
   "outputs": [],
   "source": []
  }
 ],
 "metadata": {
  "anaconda-cloud": {},
  "kernelspec": {
   "display_name": "Python [default]",
   "language": "python",
   "name": "python3"
  },
  "language_info": {
   "codemirror_mode": {
    "name": "ipython",
    "version": 3
   },
   "file_extension": ".py",
   "mimetype": "text/x-python",
   "name": "python",
   "nbconvert_exporter": "python",
   "pygments_lexer": "ipython3",
   "version": "3.5.2"
  }
 },
 "nbformat": 4,
 "nbformat_minor": 1
}
