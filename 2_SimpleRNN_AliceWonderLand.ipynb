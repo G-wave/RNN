{
 "cells": [
  {
   "cell_type": "code",
   "execution_count": 14,
   "metadata": {
    "collapsed": false
   },
   "outputs": [],
   "source": [
    "from keras.layers import Dense, Activation\n",
    "from keras.layers.recurrent import SimpleRNN\n",
    "from keras.models import Sequential\n",
    "from keras.utils.vis_utils import plot_model\n",
    "import numpy as np"
   ]
  },
  {
   "cell_type": "code",
   "execution_count": 15,
   "metadata": {
    "collapsed": false
   },
   "outputs": [],
   "source": [
    "file = open(\"AliceWonderland.txt\",'rb')"
   ]
  },
  {
   "cell_type": "code",
   "execution_count": 16,
   "metadata": {
    "collapsed": false
   },
   "outputs": [],
   "source": [
    "lines=[]\n",
    "for line in file:\n",
    "    line = line.strip().lower()              #删除空白符（包括'\\n', '\\r',  '\\t',  ' ') 并转小写\n",
    "    line = line.decode(\"ascii\",\"ignore\")\n",
    "    if len(line)==0:\n",
    "        continue\n",
    "    lines.append(line)\n",
    "file.close()\n",
    "text = \" \".join(lines)"
   ]
  },
  {
   "cell_type": "code",
   "execution_count": 28,
   "metadata": {
    "collapsed": false
   },
   "outputs": [
    {
     "data": {
      "text/plain": [
       "{0: '$',\n",
       " 1: 'e',\n",
       " 2: '@',\n",
       " 3: '-',\n",
       " 4: '3',\n",
       " 5: '5',\n",
       " 6: ',',\n",
       " 7: 'z',\n",
       " 8: ']',\n",
       " 9: '9',\n",
       " 10: ')',\n",
       " 11: '*',\n",
       " 12: '.',\n",
       " 13: '8',\n",
       " 14: '(',\n",
       " 15: 't',\n",
       " 16: 'q',\n",
       " 17: 'f',\n",
       " 18: 'l',\n",
       " 19: ';',\n",
       " 20: '_',\n",
       " 21: 'h',\n",
       " 22: 'o',\n",
       " 23: 'v',\n",
       " 24: 'y',\n",
       " 25: 'c',\n",
       " 26: 'm',\n",
       " 27: '6',\n",
       " 28: 'w',\n",
       " 29: '0',\n",
       " 30: 'p',\n",
       " 31: 'j',\n",
       " 32: 'k',\n",
       " 33: '?',\n",
       " 34: 'u',\n",
       " 35: '!',\n",
       " 36: ' ',\n",
       " 37: 'r',\n",
       " 38: '[',\n",
       " 39: '/',\n",
       " 40: '1',\n",
       " 41: '#',\n",
       " 42: 's',\n",
       " 43: '7',\n",
       " 44: '2',\n",
       " 45: 'i',\n",
       " 46: 'n',\n",
       " 47: ':',\n",
       " 48: '%',\n",
       " 49: '4',\n",
       " 50: 'd',\n",
       " 51: 'a',\n",
       " 52: 'x',\n",
       " 53: 'g',\n",
       " 54: 'b'}"
      ]
     },
     "execution_count": 28,
     "metadata": {},
     "output_type": "execute_result"
    }
   ],
   "source": [
    "chars = set([c for c in text])\n",
    "nb_chars = len(chars)\n",
    "char2index = dict((c,i) for i,c in enumerate(chars))\n",
    "index2char = dict((i,c) for i,c in enumerate(chars))\n",
    "index2char"
   ]
  },
  {
   "cell_type": "code",
   "execution_count": 5,
   "metadata": {
    "collapsed": true
   },
   "outputs": [],
   "source": [
    "SEQLEN=10\n",
    "STEP=1"
   ]
  },
  {
   "cell_type": "code",
   "execution_count": 6,
   "metadata": {
    "collapsed": false
   },
   "outputs": [],
   "source": [
    "input_chars = []\n",
    "label_chars = []\n",
    "for i in range(0, len(text)-SEQLEN, STEP):\n",
    "    input_chars.append(text[i:i + SEQLEN])\n",
    "    label_chars.append(text[i+SEQLEN])"
   ]
  },
  {
   "cell_type": "code",
   "execution_count": 7,
   "metadata": {
    "collapsed": false
   },
   "outputs": [],
   "source": [
    "X = np.zeros((len(input_chars),SEQLEN,nb_chars),dtype=np.bool)"
   ]
  },
  {
   "cell_type": "code",
   "execution_count": 8,
   "metadata": {
    "collapsed": true
   },
   "outputs": [],
   "source": [
    "y = np.zeros((len(input_chars), nb_chars), dtype=np.bool)"
   ]
  },
  {
   "cell_type": "code",
   "execution_count": 9,
   "metadata": {
    "collapsed": false
   },
   "outputs": [],
   "source": [
    "for i, input_char in enumerate(input_chars):\n",
    "    for j, ch in enumerate(input_char):\n",
    "        X[i,j,char2index[ch]] = 1\n",
    "        y[i, char2index[label_chars[i]]] = 1"
   ]
  },
  {
   "cell_type": "code",
   "execution_count": 31,
   "metadata": {
    "collapsed": true
   },
   "outputs": [],
   "source": [
    "HIDDEN_SIZE = 128\n",
    "BATCH_SIZE = 128\n",
    "NUM_ITERATIONS = 10\n",
    "NUM_EPOCHS_PER_ITERATION = 1\n",
    "NUM_PREDS_PER_EPOCH = 100"
   ]
  },
  {
   "cell_type": "code",
   "execution_count": 32,
   "metadata": {
    "collapsed": false
   },
   "outputs": [],
   "source": [
    "model = Sequential()\n",
    "model.add(SimpleRNN(HIDDEN_SIZE, return_sequences=False,\n",
    "                   input_shape=(SEQLEN,nb_chars),\n",
    "                   unroll=True))\n",
    "model.add(Dense(nb_chars))\n",
    "model.add(Activation(\"softmax\"))\n",
    "model.compile(loss = \"categorical_crossentropy\",optimizer=\"rmsprop\")"
   ]
  },
  {
   "cell_type": "code",
   "execution_count": 33,
   "metadata": {
    "collapsed": false
   },
   "outputs": [
    {
     "name": "stdout",
     "output_type": "stream",
     "text": [
      "==================================================\n",
      "Iteration #:0\n",
      "Epoch 1/1\n",
      "158773/158773 [==============================] - 10s - loss: 2.3391    \n",
      "Generating from seed: tch her he\n",
      "tch her her and the cous the cared alice and he the she was ing the care the cous the cared alice and he the s==================================================\n",
      "Iteration #:1\n",
      "Epoch 1/1\n",
      "158773/158773 [==============================] - 10s - loss: 2.0553    \n",
      "Generating from seed: eal worse \n",
      "eal worse to the sall the porse for har sat in the porse for har sat in the porse for har sat in the porse for==================================================\n",
      "Iteration #:2\n",
      "Epoch 1/1\n",
      "158773/158773 [==============================] - 10s - loss: 1.9545    \n",
      "Generating from seed: ittle hous\n",
      "ittle hous to the dore the dore the dore the dore the dore the dore the dore the dore the dore the dore the do==================================================\n",
      "Iteration #:3\n",
      "Epoch 1/1\n",
      "158773/158773 [==============================] - 10s - loss: 1.8762    \n",
      "Generating from seed: removed! t\n",
      "removed! the was the was the was the was the was the was the was the was the was the was the was the was the w==================================================\n",
      "Iteration #:4\n",
      "Epoch 1/1\n",
      "158773/158773 [==============================] - 10s - loss: 1.8091    \n",
      "Generating from seed: done, thou\n",
      "done, thought the dorse the dorse the dorse the dorse the dorse the dorse the dorse the dorse the dorse the do==================================================\n",
      "Iteration #:5\n",
      "Epoch 1/1\n",
      "158773/158773 [==============================] - 10s - loss: 1.7529    \n",
      "Generating from seed: ful, beaut\n",
      "ful, beaut to her the march hare the mark to the marked and the march hare the mark to the marked and the marc==================================================\n",
      "Iteration #:6\n",
      "Epoch 1/1\n",
      "158773/158773 [==============================] - 10s - loss: 1.7051    \n",
      "Generating from seed: erson of a\n",
      "erson of a little to the cat of the said the cat of the said the cat of the said the cat of the said the cat o==================================================\n",
      "Iteration #:7\n",
      "Epoch 1/1\n",
      "158773/158773 [==============================] - 10s - loss: 1.6631    \n",
      "Generating from seed:  chapter v\n",
      " chapter very come the cat of the courd the march hare the cat of the courd the march hare the cat of the cour==================================================\n",
      "Iteration #:8\n",
      "Epoch 1/1\n",
      "158773/158773 [==============================] - 10s - loss: 1.6301    \n",
      "Generating from seed: here goes \n",
      "here goes the said the caterpillar the sard the sard the sard the sard the sard the sard the sard the sard the==================================================\n",
      "Iteration #:9\n",
      "Epoch 1/1\n",
      "158773/158773 [==============================] - 10s - loss: 1.6014    \n",
      "Generating from seed: on going i\n",
      "on going in a little goon was the dormouse was so a little goon was the dormouse was so a little goon was the \n"
     ]
    }
   ],
   "source": [
    "for iteration in range(NUM_ITERATIONS):\n",
    "    print(\"=\"*50)\n",
    "    print(\"Iteration #:%d\" %(iteration))\n",
    "    model.fit(X,y,batch_size=BATCH_SIZE,epochs=NUM_EPOCHS_PER_ITERATION)\n",
    "    \n",
    "    test_idx = np.random.randint(len(input_chars))\n",
    "    test_chars = input_chars[test_idx]\n",
    "    print(\"Generating from seed: %s\"%(test_chars))\n",
    "    print(test_chars, end=\"\")\n",
    "    for i in range(NUM_PREDS_PER_EPOCH):\n",
    "        Xtest = np.zeros((1,SEQLEN, nb_chars))\n",
    "        for i,ch in enumerate(test_chars):\n",
    "            Xtest[0,i,char2index[ch]]=1\n",
    "        pred = model.predict(Xtest, verbose=0)[0]    \n",
    "        ypred = index2char[np.argmax(pred)]\n",
    "        print(ypred, end=\"\")\n",
    "        test_chars = test_chars[1:] + ypred\n",
    "print()\n",
    "    "
   ]
  },
  {
   "cell_type": "code",
   "execution_count": null,
   "metadata": {
    "collapsed": true
   },
   "outputs": [],
   "source": []
  }
 ],
 "metadata": {
  "anaconda-cloud": {},
  "kernelspec": {
   "display_name": "Python [default]",
   "language": "python",
   "name": "python3"
  },
  "language_info": {
   "codemirror_mode": {
    "name": "ipython",
    "version": 3
   },
   "file_extension": ".py",
   "mimetype": "text/x-python",
   "name": "python",
   "nbconvert_exporter": "python",
   "pygments_lexer": "ipython3",
   "version": "3.5.2"
  }
 },
 "nbformat": 4,
 "nbformat_minor": 1
}
